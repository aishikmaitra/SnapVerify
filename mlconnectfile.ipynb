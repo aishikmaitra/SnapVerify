{
 "cells": [
  {
   "cell_type": "code",
   "execution_count": 3,
   "metadata": {},
   "outputs": [
    {
     "name": "stdout",
     "output_type": "stream",
     "text": [
      " * Serving Flask app '__main__'\n"
     ]
    },
    {
     "name": "stdout",
     "output_type": "stream",
     "text": [
      " * Debug mode: on\n"
     ]
    },
    {
     "name": "stderr",
     "output_type": "stream",
     "text": [
      "WARNING: This is a development server. Do not use it in a production deployment. Use a production WSGI server instead.\n",
      " * Running on http://127.0.0.1:5000\n",
      "Press CTRL+C to quit\n",
      " * Restarting with stat\n"
     ]
    },
    {
     "ename": "SystemExit",
     "evalue": "1",
     "output_type": "error",
     "traceback": [
      "An exception has occurred, use %tb to see the full traceback.\n",
      "\u001b[1;31mSystemExit\u001b[0m\u001b[1;31m:\u001b[0m 1\n"
     ]
    }
   ],
   "source": [
    "from flask import Flask, request, jsonify\n",
    "import requests\n",
    "import firebase_admin\n",
    "from firebase_admin import credentials\n",
    "from google.cloud.firestore_v1.base_query import FieldFilter\n",
    "from firebase_admin import firestore\n",
    "import numpy as np  # Assuming you need to process the image with numpy\n",
    "\n",
    "app = Flask(__name__)\n",
    "\n",
    "# Replace this with the path to your Firebase service account key JSON file\n",
    "cred = credentials.Certificate(\"C:/Users/aishi/OneDrive/Desktop/FR/snappy.json\")\n",
    "\n",
    "if not firebase_admin._apps:\n",
    "    firebase_admin.initialize_app(cred)\n",
    "\n",
    "db = firestore.client()\n",
    "\n",
    "# Replace this with the ML model endpoint URL\n",
    "ml_model_endpoint = 'http://face_recognition'\n",
    "\n",
    "@app.route('/process_image', methods=['POST'])\n",
    "def process_image():\n",
    "    try:\n",
    "        # Assuming 'document_id' is provided in the request JSON\n",
    "        document_id = request.json.get('document_id')\n",
    "\n",
    "        # Retrieve the Firestore document by document_id\n",
    "        doc_ref = db.collection('processed_images').document(document_id)\n",
    "        doc = doc_ref.get()\n",
    "\n",
    "        if doc.exists:\n",
    "            # Extract the image URL from the Firestore document\n",
    "            image_url = doc.to_dict().get('image', None)\n",
    "\n",
    "            if image_url:\n",
    "                # Make a request to the ML model endpoint with the image URL\n",
    "                ml_response = requests.post(ml_model_endpoint, json={'image_url': image_url})\n",
    "\n",
    "                # Process the ML model response (replace this with your actual processing code)\n",
    "                response_json = ml_response.json()\n",
    "                processed_data = response_json.get('result', None)\n",
    "\n",
    "                # Store the processed data in Firestore\n",
    "                new_doc_ref = db.collection('processed_images').add({\n",
    "                    'processed_data': processed_data\n",
    "                })\n",
    "\n",
    "                return jsonify({'status': 'success', 'document_id': new_doc_ref.id})\n",
    "            else:\n",
    "                return jsonify({'status': 'error', 'message': 'Image URL not found in Firestore document'})\n",
    "        else:\n",
    "            return jsonify({'status': 'error', 'message': f'Document with id {document_id} not found'})\n",
    "    except Exception as e:\n",
    "        return jsonify({'status': 'error', 'message': str(e)})\n",
    "\n",
    "if __name__ == '__main__':\n",
    "    app.run(debug=True)\n"
   ]
  }
 ],
 "metadata": {
  "kernelspec": {
   "display_name": "Python 3",
   "language": "python",
   "name": "python3"
  },
  "language_info": {
   "codemirror_mode": {
    "name": "ipython",
    "version": 3
   },
   "file_extension": ".py",
   "mimetype": "text/x-python",
   "name": "python",
   "nbconvert_exporter": "python",
   "pygments_lexer": "ipython3",
   "version": "3.11.5"
  }
 },
 "nbformat": 4,
 "nbformat_minor": 2
}
