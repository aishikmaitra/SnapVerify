{
 "cells": [
  {
   "cell_type": "code",
   "execution_count": 3,
   "metadata": {},
   "outputs": [
    {
     "ename": "SyntaxError",
     "evalue": "cannot assign to expression here. Maybe you meant '==' instead of '='? (3693456747.py, line 18)",
     "output_type": "error",
     "traceback": [
      "\u001b[1;36m  Cell \u001b[1;32mIn[3], line 18\u001b[1;36m\u001b[0m\n\u001b[1;33m    doc-data['docData']=doc._data\u001b[0m\n\u001b[1;37m    ^\u001b[0m\n\u001b[1;31mSyntaxError\u001b[0m\u001b[1;31m:\u001b[0m cannot assign to expression here. Maybe you meant '==' instead of '='?\n"
     ]
    }
   ],
   "source": [
    "import firebase_admin\n",
    "from firebase_admin import credentials\n",
    "#import \n",
    "from google.cloud.firestore_v1.base_query import FieldFilter,Or\n",
    "from firebase_admin import firestore\n",
    "cred = credentials.Certificate(\"C:/Users/aishi/OneDrive/Desktop/FR/snappy.json\")\n",
    "firebase_admin.initialize_app(cred)\n",
    "db=firestore.client()\n",
    "#def update_existing_documnet(docID):\n",
    "def getallDocs(collectionname):\n",
    "    docs={\n",
    "            db.collection(collectionName).stream()\n",
    "        }\n",
    "    documnets_list=[]\n",
    "    for doc in docs:\n",
    "        doc_data=doc.to_dict()\n",
    "        doc_data['id']=doc.id\n",
    "        doc_data['docData']=doc._data\n",
    "        docnumets_list.append(doc_data)\n",
    "    for docm in docnumets_list:\n",
    "        print(f\"Document id:{docm['id']}\")\n",
    "        print(f\"Document data:{docm['doc_data']}\")\n",
    "        print()\n",
    "def get_documnet(coll_name,doc_id):\n",
    "    doc_ref=db.collection(coll_name).document(doc_id)\n",
    "    print(doc_ref)\n",
    "    doc=doc_ref.get()\n",
    "    if doc.exists:\n",
    "        return doc.to_dict()\n",
    "    else:\n",
    "        print(f\"Document:'{doc_id}' not found in collection '{coll_name}'.\")\n",
    "        return None\n",
    "def get_docwithstatus(coll_name,svalue):\n",
    "    try:\n",
    "        doc_ref=db.collection(coll_name)\n",
    "        query=doc_ref.where(filter=FieldFilter(\"Status\",\"==\",svalue))\n",
    "        docs=query.stream()\n",
    "print(get_document('photos','fCAJ3elxnnqno6PYpRfd'))\n",
    "\n",
    "    \n"
   ]
  }
 ],
 "metadata": {
  "kernelspec": {
   "display_name": "Python 3",
   "language": "python",
   "name": "python3"
  },
  "language_info": {
   "codemirror_mode": {
    "name": "ipython",
    "version": 3
   },
   "file_extension": ".py",
   "mimetype": "text/x-python",
   "name": "python",
   "nbconvert_exporter": "python",
   "pygments_lexer": "ipython3",
   "version": "3.11.5"
  }
 },
 "nbformat": 4,
 "nbformat_minor": 2
}
